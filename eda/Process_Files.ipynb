{
 "cells": [
  {
   "cell_type": "code",
   "execution_count": 20,
   "id": "1bbe8064-b949-45bb-9a09-d2bce00a24df",
   "metadata": {},
   "outputs": [],
   "source": [
    "import csv\n",
    "import fitparse\n",
    "import gzip\n",
    "import os\n",
    "import pytz\n",
    "import datetime\n",
    "\n",
    "from tcxreader.tcxreader import TCXReader, TCXTrackPoint\n",
    "from gpxcsv import gpxtolist\n",
    "from tqdm import tqdm\n",
    "from dateutil import parser\n",
    "\n",
    "import functools\n",
    "\n",
    "def debug(func):\n",
    "    \"\"\"Print the function signature and return value\"\"\"\n",
    "    @functools.wraps(func)\n",
    "    def wrapper_debug(*args, **kwargs):\n",
    "        fn = args[0]\n",
    "        try:\n",
    "            value = func(*args, **kwargs)\n",
    "        except Exception as e:\n",
    "            print(f'Failed for file: {fn}')\n",
    "            raise e\n",
    "        return value\n",
    "    return wrapper_debug\n",
    "\n",
    "def get_paths():\n",
    "    paths = {'raw':'../data/raw',\n",
    "             'processed':'../data/processed',\n",
    "             'metadata':'../data/metadata'}\n",
    "    for _, folder in paths.items():\n",
    "        if not os.path.isdir(folder):\n",
    "            os.mkdir(folder)\n",
    "    return paths\n",
    "\n",
    "def standardize_time(timestamp):\n",
    "    #expected format:\n",
    "    #2012-07-30 17:54:08+00:00\n",
    "    if timestamp is None:\n",
    "        return timestamp\n",
    "    if isinstance(timestamp, datetime.datetime):\n",
    "        parsed_date = timestamp\n",
    "        est_date = parsed_date\n",
    "    else:\n",
    "        parsed_date = parser.parse(timestamp)\n",
    "        if not parsed_date.tzinfo:\n",
    "            parsed_date = parsed_date.replace(tzinfo=pytz.utc)\n",
    "        est = pytz.timezone('US/Eastern')\n",
    "        est_date = parsed_date.astimezone(est)\n",
    "    output = est_date.strftime('%Y-%m-%d %H:%M:%S')\n",
    "    return output\n",
    "\n",
    "def get_expected_format():\n",
    "    return ('time','distance','lat','lon','elev','power','cadence','heart_rate')\n",
    "\n",
    "def parse_gzip(filename):\n",
    "    raw = get_paths()['raw']\n",
    "    with gzip.open(f'{raw}/{filename}', 'rb') as f:\n",
    "        file_content = f.read()\n",
    "    return file_content\n",
    "\n",
    "def write_output(filename, output, track_name):\n",
    "    paths = get_paths()\n",
    "    output_filename = filename.split('.')[0]\n",
    "    processed = paths['processed']\n",
    "    with open(f'{processed}/{output_filename}.csv','w',newline='') as csvfile:\n",
    "        writer = csv.writer(csvfile, delimiter=',',quotechar='\"', quoting=csv.QUOTE_MINIMAL)\n",
    "        writer.writerows(output)\n",
    "\n",
    "    metadata = paths['metadata']\n",
    "    with open(f'{metadata}/processed_files.csv', 'a', newline='') as csvfile:\n",
    "        writer = csv.writer(csvfile, delimiter=',', quotechar='\"', quoting=csv.QUOTE_MINIMAL)\n",
    "        writer.writerow([filename, output_filename, track_name])\n",
    "\n",
    "@debug\n",
    "def parse_gpx(filename):\n",
    "    raw = get_paths()['raw']\n",
    "    gpx_list = gpxtolist(f'{raw}/{filename}')\n",
    "    track_name = None\n",
    "    output = []\n",
    "    for point in gpx_list:\n",
    "        if not track_name:\n",
    "            track_name = point.get('name')\n",
    "        assert get_expected_format() == ('time','distance','lat','lon','elev','power','cadence','heart_rate')\n",
    "        output.append([standardize_time(point.get('time')), \n",
    "                       point.get('distance'),\n",
    "                       point.get('lat'),\n",
    "                       point.get('lon'),\n",
    "                       point.get('ele'),\n",
    "                       point.get('power'),\n",
    "                       point.get('cad'),\n",
    "                       point.get('heart_rate')])\n",
    "    write_output(filename, output, track_name)\n",
    "\n",
    "@debug\n",
    "def parse_fit(filename, content=None):\n",
    "    raw = get_paths()['raw']\n",
    "    fitfile = fitparse.FitFile(f'{raw}/{filename}')\n",
    "    output = []\n",
    "    track_name = filename.split('.')[0]\n",
    "    for record in fitfile.get_messages(\"record\"):\n",
    "        row_output = {}\n",
    "        for data in record:\n",
    "            use = False\n",
    "            if data.name in ['position_lat', 'position_long']:\n",
    "                value = data.value\n",
    "                if value:\n",
    "                    # Answer here https://gis.stackexchange.com/questions/371656/garmin-fit-coordinate-system\n",
    "                    # Answer why 11930465 here: https://gis.stackexchange.com/questions/122186/convert-garmin-or-iphone-weird-gps-coordinates\n",
    "                    value /= 11930465\n",
    "                    use = True\n",
    "            elif data.name == 'timestamp':\n",
    "                value = standardize_time(data.value)\n",
    "                use = True\n",
    "            elif data.name in ['distance','power', 'cadence', 'heart_rate']:\n",
    "                value = data.value\n",
    "                use = True\n",
    "            elif data.name == 'altitude':\n",
    "                if data.value:\n",
    "                    if data.units and data.units == 'm':\n",
    "                        value = data.value * 3.28084\n",
    "                    else:\n",
    "                        value = data.value\n",
    "                    use = True\n",
    "            if use:\n",
    "                row_output[data.name] = value\n",
    "        assert get_expected_format() == ('time','distance','lat','lon','elev','power','cadence','heart_rate')\n",
    "        final_row_output = [row_output['timestamp'],\n",
    "                            row_output.get('distance', None),\n",
    "                            row_output.get('position_lat', None),\n",
    "                            row_output.get('position_long', None),\n",
    "                            row_output.get('altitude', None),\n",
    "                            row_output.get('power', None),\n",
    "                            row_output.get('cadence', None),\n",
    "                            row_output.get('heart_rate', None)]\n",
    "        output.append(final_row_output)\n",
    "    write_output(filename, output, track_name)\n",
    "\n",
    "#Some of the TCX files have extra spaces at the beginning of each line - this will fix those\n",
    "def preprocess_tcx(filename):\n",
    "    raw = get_paths()['raw']\n",
    "    with open(f'{raw}/{filename}','r') as f:\n",
    "        line_lst = [line.lstrip() for line in f.readlines()]\n",
    "        lines = ''.join(line_lst)\n",
    "    with open(f'{raw}/{filename}','w') as f:\n",
    "        f.write(lines)\n",
    "\n",
    "@debug\n",
    "def parse_tcx(filename):\n",
    "    preprocess_tcx(filename)\n",
    "    tcx_reader = TCXReader()\n",
    "    \n",
    "    raw = get_paths()['raw']\n",
    "    data = tcx_reader.read(f'{raw}/{filename}', only_gps=False)\n",
    "    track_name = filename.split('.')[0]\n",
    "    output = []\n",
    "    for trackpoint in data.trackpoints:\n",
    "        assert get_expected_format() == ('time','distance','lat','lon','elev','power','cadence','heart_rate')\n",
    "        tpd = trackpoint.to_dict()\n",
    "        final_row_output = [standardize_time(tpd.get('time')), \n",
    "                            tpd.get('distance'),\n",
    "                            tpd.get('latitude'),\n",
    "                            tpd.get('longitude'),\n",
    "                            tpd.get('elevation'),\n",
    "                            tpd.get('Watts'),\n",
    "                            tpd.get('cadence'),\n",
    "                            tpd.get('hr_value')]\n",
    "        output.append(final_row_output)\n",
    "    write_output(filename, output, track_name)\n",
    "\n",
    "def unzip_file(filename):\n",
    "    import shutil\n",
    "    \n",
    "    raw = get_paths()['raw']\n",
    "    #filename with .gz\n",
    "    original_filename = filename\n",
    "    #filename without .gz\n",
    "    new_filename = filename[:-3]\n",
    "    with gzip.open(f'{raw}/{original_filename}', 'rb') as f_in:\n",
    "        with open(f'{raw}/{new_filename}', 'wb') as f_out:\n",
    "            shutil.copyfileobj(f_in, f_out)\n",
    "    return new_filename\n",
    "\n",
    "def parse_file(filename):\n",
    "    if filename[-3:] == 'gpx':\n",
    "        parse_gpx(filename)\n",
    "        return True, filename\n",
    "    elif filename[-3:] == 'fit':\n",
    "        parse_fit(filename)\n",
    "        return True, filename\n",
    "    elif filename[-3:] == 'tcx':\n",
    "        parse_tcx(filename)\n",
    "        return True, filename\n",
    "    elif filename[-2:] == 'gz':\n",
    "        filename = unzip_file(filename)\n",
    "        return parse_file(filename)\n",
    "    else:\n",
    "        return False, filename\n",
    "\n",
    "from tqdm import tqdm\n",
    "\n",
    "def parse_all_files():\n",
    "    raw = get_paths()['raw']\n",
    "    all_files = os.listdir(raw)\n",
    "    failed = []\n",
    "    for file in tqdm(all_files):\n",
    "        success, name = parse_file(file)\n",
    "        if not success:\n",
    "            failed.append(name)\n",
    "    return failed"
   ]
  },
  {
   "cell_type": "code",
   "execution_count": 21,
   "id": "d1fa2917-2c70-4853-87c8-321318c82e65",
   "metadata": {},
   "outputs": [
    {
     "name": "stderr",
     "output_type": "stream",
     "text": [
      "100%|█████████████████████████████████████████████████████████████████████████████████████████████████████████████████████████████████████████████████████████████████████████████████████████████████████████████████| 3387/3387 [16:06<00:00,  3.50it/s]\n"
     ]
    },
    {
     "data": {
      "text/plain": [
       "[]"
      ]
     },
     "execution_count": 21,
     "metadata": {},
     "output_type": "execute_result"
    }
   ],
   "source": [
    "parse_all_files()"
   ]
  },
  {
   "cell_type": "code",
   "execution_count": 19,
   "id": "2403572b-bedb-4bee-a84a-6a7593e095c4",
   "metadata": {},
   "outputs": [],
   "source": [
    "parse_gpx('11823912.gpx')"
   ]
  },
  {
   "cell_type": "code",
   "execution_count": 18,
   "id": "5ab7da42-ae34-4534-859a-a5ecbe43e577",
   "metadata": {},
   "outputs": [],
   "source": [
    "filename = '9136956894.fit'\n",
    "fitfile = fitparse.FitFile(f'../data/raw/{filename}')"
   ]
  },
  {
   "cell_type": "code",
   "execution_count": 19,
   "id": "1f973882-f6ba-43e8-9ad7-3ad2ad5fb168",
   "metadata": {},
   "outputs": [
    {
     "data": {
      "text/plain": [
       "<fitparse.base.FitFile at 0x15332d7f940>"
      ]
     },
     "execution_count": 19,
     "metadata": {},
     "output_type": "execute_result"
    }
   ],
   "source": [
    "fitfile"
   ]
  },
  {
   "cell_type": "code",
   "execution_count": 32,
   "id": "64f9ae3f-7ebe-48a5-8347-504f5ee64786",
   "metadata": {},
   "outputs": [
    {
     "data": {
      "text/plain": [
       "(True, '9136956894.fit')"
      ]
     },
     "execution_count": 32,
     "metadata": {},
     "output_type": "execute_result"
    }
   ],
   "source": [
    "o = parse_file('9136956894.fit')\n",
    "o"
   ]
  },
  {
   "cell_type": "code",
   "execution_count": 5,
   "id": "d29e1335-50a2-46e2-890b-749ab5c46321",
   "metadata": {},
   "outputs": [
    {
     "data": {
      "text/plain": [
       "<fitparse.base.FitFile at 0x22dc46d9fc0>"
      ]
     },
     "execution_count": 5,
     "metadata": {},
     "output_type": "execute_result"
    }
   ],
   "source": [
    "fitfile"
   ]
  },
  {
   "cell_type": "code",
   "execution_count": 7,
   "id": "62f11b06-2b4b-474c-abeb-bc6aeaa52e5e",
   "metadata": {},
   "outputs": [
    {
     "name": "stdout",
     "output_type": "stream",
     "text": [
      "altitude: 421.20000000000005 [m]distance: 0.0 [m]enhanced_altitude: 421.20000000000005 [m]timestamp: 2023-02-05 23:59:12\n",
      "altitude: 421.20000000000005 [m]distance: 0.0 [m]enhanced_altitude: 421.20000000000005 [m]heart_rate: 77 [bpm]timestamp: 2023-02-05 23:59:15unknown_88: 300\n",
      "altitude: 421.20000000000005 [m]distance: 0.0 [m]enhanced_altitude: 421.20000000000005 [m]heart_rate: 78 [bpm]timestamp: 2023-02-05 23:59:16unknown_88: 300\n",
      "altitude: 421.20000000000005 [m]distance: 0.0 [m]enhanced_altitude: 421.20000000000005 [m]heart_rate: 79 [bpm]timestamp: 2023-02-05 23:59:17unknown_88: 300\n",
      "altitude: 421.20000000000005 [m]distance: 0.0 [m]enhanced_altitude: 421.20000000000005 [m]heart_rate: 80 [bpm]timestamp: 2023-02-05 23:59:19unknown_88: 300\n",
      "altitude: 421.20000000000005 [m]distance: 0.0 [m]enhanced_altitude: 421.20000000000005 [m]heart_rate: 81 [bpm]timestamp: 2023-02-05 23:59:20unknown_88: 300\n",
      "altitude: 421.20000000000005 [m]distance: 0.0 [m]enhanced_altitude: 421.20000000000005 [m]heart_rate: 82 [bpm]timestamp: 2023-02-05 23:59:21unknown_88: 300\n",
      "altitude: 421.20000000000005 [m]distance: 0.0 [m]enhanced_altitude: 421.20000000000005 [m]heart_rate: 84 [bpm]timestamp: 2023-02-05 23:59:22unknown_88: 300\n",
      "altitude: 421.20000000000005 [m]distance: 0.0 [m]enhanced_altitude: 421.20000000000005 [m]heart_rate: 86 [bpm]timestamp: 2023-02-05 23:59:30unknown_88: 300\n",
      "altitude: 421.20000000000005 [m]distance: 0.0 [m]enhanced_altitude: 421.20000000000005 [m]heart_rate: 87 [bpm]timestamp: 2023-02-05 23:59:32unknown_88: 300\n"
     ]
    }
   ],
   "source": [
    "ctr = 0\n",
    "for record in fitfile.get_messages(\"record\"):\n",
    "    for data in record:\n",
    "        print(data,end='')\n",
    "    print()\n",
    "    ctr += 1\n",
    "    if ctr % 10 == 0:\n",
    "        break\n",
    "    "
   ]
  },
  {
   "cell_type": "code",
   "execution_count": 8,
   "id": "bc869066-0b05-419f-a672-bc04737be35a",
   "metadata": {},
   "outputs": [],
   "source": [
    "output = []\n",
    "track_name = filename.split('.')[0]\n",
    "for record in fitfile.get_messages(\"record\"):\n",
    "    row_output = {}\n",
    "    for data in record:\n",
    "        use = False\n",
    "        if data.name in ['position_lat', 'position_long']:\n",
    "            value = data.value\n",
    "            if value:\n",
    "                # Answer here https://gis.stackexchange.com/questions/371656/garmin-fit-coordinate-system\n",
    "                # Answer why 11930465 here: https://gis.stackexchange.com/questions/122186/convert-garmin-or-iphone-weird-gps-coordinates\n",
    "                value /= 11930465\n",
    "                use=True\n",
    "        elif data.name in ['timestamp', 'power','cadence','heart_rate']:\n",
    "            value = data.value\n",
    "            use = True\n",
    "        elif data.name == 'altitude':\n",
    "            if data.value:\n",
    "                if data.units and data.units == 'm':\n",
    "                    value = data.value * 3.28084\n",
    "                else:\n",
    "                    value = data.value\n",
    "                use = True\n",
    "        if use:\n",
    "            row_output[data.name] = value\n",
    "    assert get_expected_format() == ('time', 'lat', 'lon', 'elev', 'power')\n",
    "    final_row_output = [row_output['timestamp'], row_output.get('position_lat',None),\n",
    "                        row_output.get('position_long',None),\n",
    "                        row_output.get('altitude',None),\n",
    "                        row_output.get('power', None),\n",
    "                        row_output.get('cadence', None),\n",
    "                        row_output.get('heart_rate', None)]\n",
    "    output.append(final_row_output)"
   ]
  },
  {
   "cell_type": "code",
   "execution_count": 9,
   "id": "7749d026-ffe0-42f8-be7e-a7490cf5fbc3",
   "metadata": {},
   "outputs": [],
   "source": [
    "from tcxreader.tcxreader import TCXReader, TCXTrackPoint\n",
    "\n",
    "tcx_reader = TCXReader()\n",
    "filename = '9392651436.tcx'\n",
    "\n",
    "data = tcx_reader.read(f'../data/raw/{filename}', only_gps=False)"
   ]
  },
  {
   "cell_type": "code",
   "execution_count": 13,
   "id": "a8e6a0ff-1d81-45ce-ac80-2beaa009c930",
   "metadata": {},
   "outputs": [
    {
     "data": {
      "text/plain": [
       "{'time': datetime.datetime(2023, 3, 21, 11, 20, 49),\n",
       " 'longitude': None,\n",
       " 'latitude': None,\n",
       " 'distance': 9.19,\n",
       " 'elevation': None,\n",
       " 'hr_value': 97,\n",
       " 'cadence': 84,\n",
       " 'Speed': 9.04,\n",
       " 'Watts': 173.0,\n",
       " 'Resistance': 173.0}"
      ]
     },
     "execution_count": 13,
     "metadata": {},
     "output_type": "execute_result"
    }
   ],
   "source": [
    "data.trackpoints[0].to_dict()"
   ]
  },
  {
   "cell_type": "code",
   "execution_count": 27,
   "id": "059b8718-f23f-4543-8415-20d8c7409b71",
   "metadata": {},
   "outputs": [
    {
     "ename": "AttributeError",
     "evalue": "'TCXExercise' object has no attribute 'name'",
     "output_type": "error",
     "traceback": [
      "\u001b[1;31m---------------------------------------------------------------------------\u001b[0m",
      "\u001b[1;31mAttributeError\u001b[0m                            Traceback (most recent call last)",
      "Cell \u001b[1;32mIn[27], line 1\u001b[0m\n\u001b[1;32m----> 1\u001b[0m \u001b[43mdata\u001b[49m\u001b[38;5;241;43m.\u001b[39;49m\u001b[43mname\u001b[49m\n",
      "\u001b[1;31mAttributeError\u001b[0m: 'TCXExercise' object has no attribute 'name'"
     ]
    }
   ],
   "source": [
    "data.name"
   ]
  },
  {
   "cell_type": "code",
   "execution_count": 6,
   "id": "ee949ccd-f136-4e5b-8787-94f231c24e77",
   "metadata": {},
   "outputs": [
    {
     "ename": "NameError",
     "evalue": "name 'parse_gpx' is not defined",
     "output_type": "error",
     "traceback": [
      "\u001b[1;31m---------------------------------------------------------------------------\u001b[0m",
      "\u001b[1;31mNameError\u001b[0m                                 Traceback (most recent call last)",
      "Cell \u001b[1;32mIn[6], line 4\u001b[0m\n\u001b[0;32m      1\u001b[0m \u001b[38;5;28;01mfrom\u001b[39;00m \u001b[38;5;21;01mgpxcsv\u001b[39;00m \u001b[38;5;28;01mimport\u001b[39;00m gpxtolist\n\u001b[0;32m      3\u001b[0m filename \u001b[38;5;241m=\u001b[39m \u001b[38;5;124m'\u001b[39m\u001b[38;5;124mLunch_Ride.gpx\u001b[39m\u001b[38;5;124m'\u001b[39m\n\u001b[1;32m----> 4\u001b[0m \u001b[43mparse_gpx\u001b[49m(filename)\n",
      "\u001b[1;31mNameError\u001b[0m: name 'parse_gpx' is not defined"
     ]
    }
   ],
   "source": [
    "from gpxcsv import gpxtolist\n",
    "\n",
    "filename = 'Lunch_Ride.gpx'\n",
    "parse_gpx(filename)"
   ]
  },
  {
   "cell_type": "code",
   "execution_count": 28,
   "id": "79eea7a7-ec5f-4cbe-b131-f3906179bd8c",
   "metadata": {},
   "outputs": [],
   "source": [
    "import datetime\n",
    "\n",
    "gpx_time = '2023-09-13T16:38:54Z'\n",
    "tcx_time = datetime.datetime(2023, 3, 21, 11, 20, 49)\n",
    "fit_time = '2023-02-05 23:59:12'"
   ]
  },
  {
   "cell_type": "code",
   "execution_count": 43,
   "id": "f5df2d23-f223-430b-a83c-7b81384d02df",
   "metadata": {},
   "outputs": [],
   "source": [
    "from dateutil import parser\n",
    "import pytz\n",
    "import datetime\n",
    "\n",
    "def standardize_time(timestamp):\n",
    "    #expected format:\n",
    "    #2012-07-30 17:54:08+00:00\n",
    "    if isinstance(timestamp, datetime.datetime):\n",
    "        parsed_date = timestamp\n",
    "        est_date = parsed_date\n",
    "    else:\n",
    "        parsed_date = parser.parse(timestamp)\n",
    "        if not parsed_date.tzinfo:\n",
    "            parsed_date = parsed_date.replace(tzinfo=pytz.utc)\n",
    "        est = pytz.timezone('US/Eastern')\n",
    "        est_date = parsed_date.astimezone(est)\n",
    "    output = est_date.strftime('%Y-%m-%d %H:%M:%S')\n",
    "    return output\n",
    "    "
   ]
  },
  {
   "cell_type": "code",
   "execution_count": 44,
   "id": "67d6e537-badb-49b3-adec-3c8e66d229b2",
   "metadata": {},
   "outputs": [
    {
     "data": {
      "text/plain": [
       "'2023-02-05 18:59:12'"
      ]
     },
     "execution_count": 44,
     "metadata": {},
     "output_type": "execute_result"
    }
   ],
   "source": [
    "standardize_time(fit_time)"
   ]
  },
  {
   "cell_type": "code",
   "execution_count": null,
   "id": "24436a6d-5219-4e1c-b324-792608b7599a",
   "metadata": {},
   "outputs": [],
   "source": []
  }
 ],
 "metadata": {
  "kernelspec": {
   "display_name": "Python 3 (ipykernel)",
   "language": "python",
   "name": "python3"
  },
  "language_info": {
   "codemirror_mode": {
    "name": "ipython",
    "version": 3
   },
   "file_extension": ".py",
   "mimetype": "text/x-python",
   "name": "python",
   "nbconvert_exporter": "python",
   "pygments_lexer": "ipython3",
   "version": "3.10.1"
  }
 },
 "nbformat": 4,
 "nbformat_minor": 5
}
